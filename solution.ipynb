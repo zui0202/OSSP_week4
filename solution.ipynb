{
  "nbformat": 4,
  "nbformat_minor": 0,
  "metadata": {
    "colab": {
      "provenance": []
    },
    "kernelspec": {
      "name": "python3",
      "display_name": "Python 3"
    },
    "language_info": {
      "name": "python"
    }
  },
  "cells": [
    {
      "cell_type": "markdown",
      "source": [
        "## Task \n",
        "- Complete **rotateString** function following the description below\n",
        "\n",
        "### Rotate String\n",
        "Given two strings **s** and **goal**, return **true** *if and only if* **s** can become **goal** after some number of shifts on **s**.\n",
        "\n",
        "A shift on **s** consists of moving the leftmost character of **s** to the rightmost position.\n",
        "\n",
        "- For example, if **s = \"abcde\"**, then it will be **\"bcdea\"** after one shift."
      ],
      "metadata": {
        "id": "TV3Socqg8BVl"
      }
    },
    {
      "cell_type": "code",
      "execution_count": 5,
      "metadata": {
        "id": "5FcxitVf5kdQ"
      },
      "outputs": [],
      "source": [
        "def rotateString(s, goal):\n",
        "  tmp = s\n",
        "  while True:\n",
        "    if tmp == goal:\n",
        "        return True\n",
        "    tmp = tmp[1:] + tmp[0]\n",
        "    if tmp[0] == s[0]:\n",
        "        return False"
      ]
    },
    {
      "cell_type": "code",
      "source": [
        "'''\n",
        "Testcase 1. \n",
        "Input: s = \"abcde\", goal = \"cdeab\"\n",
        "Output: True\n",
        "'''\n",
        "rotateString(\"abcde\", \"cdeab\")"
      ],
      "metadata": {
        "id": "iGtv8pRU59yu",
        "colab": {
          "base_uri": "https://localhost:8080/"
        },
        "outputId": "7c8410d6-e1e2-4d5d-9673-dff9b48e32fc"
      },
      "execution_count": 6,
      "outputs": [
        {
          "output_type": "execute_result",
          "data": {
            "text/plain": [
              "True"
            ]
          },
          "metadata": {},
          "execution_count": 6
        }
      ]
    },
    {
      "cell_type": "code",
      "source": [
        "'''\n",
        "Testcase 2. \n",
        "Input: s = \"abcde\", goal = \"abced\"\n",
        "Output: False\n",
        "'''\n",
        "rotateString(\"abcde\", \"abced\")"
      ],
      "metadata": {
        "id": "c_igv9cg6Jb0",
        "colab": {
          "base_uri": "https://localhost:8080/"
        },
        "outputId": "28b0dd35-a9de-4124-a627-63704e2facce"
      },
      "execution_count": 7,
      "outputs": [
        {
          "output_type": "execute_result",
          "data": {
            "text/plain": [
              "False"
            ]
          },
          "metadata": {},
          "execution_count": 7
        }
      ]
    },
    {
      "cell_type": "code",
      "source": [
        "'''\n",
        "Testcase 3. \n",
        "Input: s = \"abcde\", goal = \"abcde\"\n",
        "Output: True\n",
        "'''\n",
        "rotateString(\"abcde\", \"abcde\")"
      ],
      "metadata": {
        "id": "gzATcpEZ6P67",
        "colab": {
          "base_uri": "https://localhost:8080/"
        },
        "outputId": "e92e884c-57a4-4620-9c15-dfd78c79e518"
      },
      "execution_count": 8,
      "outputs": [
        {
          "output_type": "execute_result",
          "data": {
            "text/plain": [
              "True"
            ]
          },
          "metadata": {},
          "execution_count": 8
        }
      ]
    }
  ]
}